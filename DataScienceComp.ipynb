{
  "nbformat": 4,
  "nbformat_minor": 0,
  "metadata": {
    "colab": {
      "name": "DataScienceComp.ipynb",
      "provenance": [],
      "collapsed_sections": [],
      "include_colab_link": true
    },
    "kernelspec": {
      "name": "python3",
      "display_name": "Python 3"
    },
    "language_info": {
      "name": "python"
    }
  },
  "cells": [
    {
      "cell_type": "markdown",
      "metadata": {
        "id": "view-in-github",
        "colab_type": "text"
      },
      "source": [
        "<a href=\"https://colab.research.google.com/github/lsharples1/Data_Science_Competition/blob/main/DataScienceComp.ipynb\" target=\"_parent\"><img src=\"https://colab.research.google.com/assets/colab-badge.svg\" alt=\"Open In Colab\"/></a>"
      ]
    },
    {
      "cell_type": "code",
      "metadata": {
        "id": "q7mrEpLgNoeV",
        "colab": {
          "base_uri": "https://localhost:8080/"
        },
        "outputId": "e9510fef-6e85-496d-dcc3-cd920d314895"
      },
      "source": [
        "import pandas as pd\n",
        "import numpy as np\n",
        "from sklearn import preprocessing\n",
        "import seaborn as sns\n",
        "from imblearn.over_sampling import SMOTE\n",
        "\n",
        "url1 = 'https://raw.githubusercontent.com/lsharples1/Data_Science_Competition/main/Simulated_Data_Train.csv?token=AO4LMYK744PF4GAEXCQHBZDAPSKSM'\n",
        "train = pd.read_csv(url1)\n",
        "\n",
        "url2 = 'https://raw.githubusercontent.com/lsharples1/Data_Science_Competition/main/Simulated_Data_Test.csv'\n",
        "test = pd.read_csv(url2)\n",
        "\n",
        "url3 = 'https://raw.githubusercontent.com/lsharples1/Data_Science_Competition/main/Simulated_Data_Validation.csv?token=AO4LMYMGZVCQVZJ6P6TBBS3APSKXS'\n",
        "validate = pd.read_csv(url3)\n",
        "\n",
        "\n",
        "#x dataframes have all columns of attributes\n",
        "#y dataframes have just the indicator (0 or 1)\n",
        "\n",
        "y_Train = train['Default_ind']\n",
        "x_Train = train\n",
        "x_Train.drop('Default_ind', axis='columns',inplace=True)\n",
        "\n",
        "x_Train = pd.get_dummies(x_Train, prefix_sep='_', drop_first=False)\n",
        "\n",
        "#x_Train.drop('auto_open_ 36_month_num', axis='columns',inplace=True)\n",
        "#x_Train.drop('ind_acc_XYZ', axis='columns',inplace=True)\n",
        "#print(x_Train)\n",
        "\n",
        "#x_Train.drop('card_age', axis='columns',inplace=True)\n",
        "#x_Train = train.loc[:, train.columns != 'Default_ind']\n",
        "#x_Train = train.loc[:, train.columns != 'uti_card']\n",
        "\n",
        "\n",
        "#state_train = le.fit_transform(x_Train.States)\n",
        "#x_Train['States'] = state_train\n",
        "#x_Train.drop('States', axis='columns',inplace=True)\n",
        "#print(x_Train.isnull().sum())\n",
        "x_Train['uti_card_50plus_pct'].fillna((x_Train['uti_card_50plus_pct'].mean()), inplace=True) \n",
        "x_Train['rep_income'].fillna((x_Train['rep_income'].mean()), inplace=True) \n",
        "#print(y_Train.value_counts())\n",
        "\n",
        "#scale\n",
        "scaler = preprocessing.StandardScaler().fit(x_Train)\n",
        "x_TrainScale = scaler.transform(x_Train)\n",
        "#overfit with SMOTE\n",
        "smote = SMOTE()\n",
        "x_TrainOV, y_TrainOV = smote.fit_resample(x_Train, y_Train)\n",
        "\n",
        "\n",
        "y_Test = test['Default_ind']\n",
        "x_Test = test\n",
        "x_Test.drop('Default_ind', axis='columns',inplace=True)\n",
        "\n",
        "#x_Test.drop('auto_open_ 36_month_num', axis='columns',inplace=True)\n",
        "#x_Test.drop('ind_acc_XYZ', axis='columns',inplace=True)\n",
        "#x_Test.drop('card_age', axis='columns',inplace=True)\n",
        "#state_test = le.fit_transform(x_Test.States)\n",
        "#x_Test['States'] = state_test\n",
        "x_Test = pd.get_dummies(x_Test, prefix_sep='_', drop_first=False)\n",
        "#x_Test.drop('States', axis='columns',inplace=True)\n",
        "#print(x_Test.isnull().sum())\n",
        "x_Test['uti_card_50plus_pct'].fillna((x_Test['uti_card_50plus_pct'].mean()), inplace=True) \n",
        "x_Test['rep_income'].fillna((x_Test['rep_income'].mean()), inplace=True) \n",
        "#scale\n",
        "\n",
        "scaler2 = preprocessing.StandardScaler().fit(x_Test)\n",
        "x_TestScale = scaler2.transform(x_Test)\n",
        "\n",
        "\n",
        "\n",
        "#print(y_Test.value_counts())\n",
        "\n",
        "y_Val = validate['Default_ind']\n",
        "x_Val = validate\n",
        "x_Val.drop('Default_ind', axis='columns',inplace=True)\n",
        "#x_Val.drop('auto_open_ 36_month_num', axis='columns',inplace=True)\n",
        "#x_Val.drop('ind_acc_XYZ', axis='columns',inplace=True)\n",
        "x_Val = pd.get_dummies(x_Val, prefix_sep='_', drop_first=False)\n",
        "#x_Val.drop('card_age', axis='columns',inplace=True)\n",
        "x_Val['uti_card_50plus_pct'].fillna((x_Val['uti_card_50plus_pct'].mean()), inplace=True) \n",
        "x_Val['rep_income'].fillna((x_Val['rep_income'].mean()), inplace=True) \n",
        "#scale\n",
        "\n",
        "scaler3 = preprocessing.StandardScaler().fit(x_Val)\n",
        "x_ValScale = scaler3.transform(x_Val)\n",
        "\n",
        "\n",
        "\n",
        "#print(y_Val.value_counts())"
      ],
      "execution_count": null,
      "outputs": [
        {
          "output_type": "stream",
          "text": [
            "/usr/local/lib/python3.7/dist-packages/sklearn/externals/six.py:31: FutureWarning: The module is deprecated in version 0.21 and will be removed in version 0.23 since we've dropped support for Python 2.7. Please rely on the official version of six (https://pypi.org/project/six/).\n",
            "  \"(https://pypi.org/project/six/).\", FutureWarning)\n",
            "/usr/local/lib/python3.7/dist-packages/sklearn/utils/deprecation.py:144: FutureWarning: The sklearn.neighbors.base module is  deprecated in version 0.22 and will be removed in version 0.24. The corresponding classes / functions should instead be imported from sklearn.neighbors. Anything that cannot be imported from sklearn.neighbors is now part of the private API.\n",
            "  warnings.warn(message, FutureWarning)\n",
            "/usr/local/lib/python3.7/dist-packages/sklearn/utils/deprecation.py:87: FutureWarning: Function safe_indexing is deprecated; safe_indexing is deprecated in version 0.22 and will be removed in version 0.24.\n",
            "  warnings.warn(msg, category=FutureWarning)\n"
          ],
          "name": "stderr"
        }
      ]
    },
    {
      "cell_type": "code",
      "metadata": {
        "colab": {
          "base_uri": "https://localhost:8080/",
          "height": 241
        },
        "id": "q9swZbBeqJvf",
        "outputId": "74421887-53ff-487b-fc9b-3fe22890ef56"
      },
      "source": [
        "train.head()"
      ],
      "execution_count": null,
      "outputs": [
        {
          "output_type": "execute_result",
          "data": {
            "text/html": [
              "<div>\n",
              "<style scoped>\n",
              "    .dataframe tbody tr th:only-of-type {\n",
              "        vertical-align: middle;\n",
              "    }\n",
              "\n",
              "    .dataframe tbody tr th {\n",
              "        vertical-align: top;\n",
              "    }\n",
              "\n",
              "    .dataframe thead th {\n",
              "        text-align: right;\n",
              "    }\n",
              "</style>\n",
              "<table border=\"1\" class=\"dataframe\">\n",
              "  <thead>\n",
              "    <tr style=\"text-align: right;\">\n",
              "      <th></th>\n",
              "      <th>tot_credit_debt</th>\n",
              "      <th>avg_card_debt</th>\n",
              "      <th>credit_age</th>\n",
              "      <th>credit_good_age</th>\n",
              "      <th>card_age</th>\n",
              "      <th>non_mtg_acc_past_due_12_months_num</th>\n",
              "      <th>non_mtg_acc_past_due_6_months_num</th>\n",
              "      <th>mortgages_past_due_6_months_num</th>\n",
              "      <th>credit_past_due_amount</th>\n",
              "      <th>inq_12_month_num</th>\n",
              "      <th>card_inq_24_month_num</th>\n",
              "      <th>card_open_36_month_num</th>\n",
              "      <th>auto_open_ 36_month_num</th>\n",
              "      <th>uti_card</th>\n",
              "      <th>uti_50plus_pct</th>\n",
              "      <th>uti_max_credit_line</th>\n",
              "      <th>uti_card_50plus_pct</th>\n",
              "      <th>ind_acc_XYZ</th>\n",
              "      <th>rep_income</th>\n",
              "      <th>States</th>\n",
              "      <th>Default_ind</th>\n",
              "    </tr>\n",
              "  </thead>\n",
              "  <tbody>\n",
              "    <tr>\n",
              "      <th>0</th>\n",
              "      <td>80826.71</td>\n",
              "      <td>15872.99</td>\n",
              "      <td>300.0</td>\n",
              "      <td>114.0</td>\n",
              "      <td>292.0</td>\n",
              "      <td>0.0</td>\n",
              "      <td>0.0</td>\n",
              "      <td>0.0</td>\n",
              "      <td>0.00</td>\n",
              "      <td>3.0</td>\n",
              "      <td>4.0</td>\n",
              "      <td>0.0</td>\n",
              "      <td>0.0</td>\n",
              "      <td>0.365902</td>\n",
              "      <td>0.475594</td>\n",
              "      <td>0.410504</td>\n",
              "      <td>NaN</td>\n",
              "      <td>0.0</td>\n",
              "      <td>69000.0</td>\n",
              "      <td>AL</td>\n",
              "      <td>0.0</td>\n",
              "    </tr>\n",
              "    <tr>\n",
              "      <th>1</th>\n",
              "      <td>96052.60</td>\n",
              "      <td>12178.02</td>\n",
              "      <td>281.0</td>\n",
              "      <td>102.0</td>\n",
              "      <td>232.0</td>\n",
              "      <td>0.0</td>\n",
              "      <td>0.0</td>\n",
              "      <td>0.0</td>\n",
              "      <td>0.00</td>\n",
              "      <td>2.0</td>\n",
              "      <td>4.0</td>\n",
              "      <td>1.0</td>\n",
              "      <td>0.0</td>\n",
              "      <td>0.542786</td>\n",
              "      <td>0.543158</td>\n",
              "      <td>0.535147</td>\n",
              "      <td>0.587351</td>\n",
              "      <td>0.0</td>\n",
              "      <td>61000.0</td>\n",
              "      <td>FL</td>\n",
              "      <td>0.0</td>\n",
              "    </tr>\n",
              "    <tr>\n",
              "      <th>2</th>\n",
              "      <td>75212.76</td>\n",
              "      <td>12052.24</td>\n",
              "      <td>261.0</td>\n",
              "      <td>149.0</td>\n",
              "      <td>260.0</td>\n",
              "      <td>0.0</td>\n",
              "      <td>0.0</td>\n",
              "      <td>0.0</td>\n",
              "      <td>0.00</td>\n",
              "      <td>1.0</td>\n",
              "      <td>3.0</td>\n",
              "      <td>0.0</td>\n",
              "      <td>1.0</td>\n",
              "      <td>0.323678</td>\n",
              "      <td>0.321776</td>\n",
              "      <td>0.348713</td>\n",
              "      <td>0.413293</td>\n",
              "      <td>0.0</td>\n",
              "      <td>NaN</td>\n",
              "      <td>AL</td>\n",
              "      <td>0.0</td>\n",
              "    </tr>\n",
              "    <tr>\n",
              "      <th>3</th>\n",
              "      <td>70727.84</td>\n",
              "      <td>8416.80</td>\n",
              "      <td>227.0</td>\n",
              "      <td>93.0</td>\n",
              "      <td>223.0</td>\n",
              "      <td>2.0</td>\n",
              "      <td>1.0</td>\n",
              "      <td>1.0</td>\n",
              "      <td>11013.96</td>\n",
              "      <td>0.0</td>\n",
              "      <td>1.0</td>\n",
              "      <td>1.0</td>\n",
              "      <td>0.0</td>\n",
              "      <td>0.448721</td>\n",
              "      <td>0.422809</td>\n",
              "      <td>0.491365</td>\n",
              "      <td>0.466810</td>\n",
              "      <td>0.0</td>\n",
              "      <td>79000.0</td>\n",
              "      <td>SC</td>\n",
              "      <td>1.0</td>\n",
              "    </tr>\n",
              "    <tr>\n",
              "      <th>4</th>\n",
              "      <td>41604.47</td>\n",
              "      <td>10611.97</td>\n",
              "      <td>249.0</td>\n",
              "      <td>136.0</td>\n",
              "      <td>241.0</td>\n",
              "      <td>0.0</td>\n",
              "      <td>0.0</td>\n",
              "      <td>0.0</td>\n",
              "      <td>0.00</td>\n",
              "      <td>0.0</td>\n",
              "      <td>2.0</td>\n",
              "      <td>0.0</td>\n",
              "      <td>0.0</td>\n",
              "      <td>0.644030</td>\n",
              "      <td>0.619987</td>\n",
              "      <td>0.546655</td>\n",
              "      <td>0.588442</td>\n",
              "      <td>1.0</td>\n",
              "      <td>NaN</td>\n",
              "      <td>LA</td>\n",
              "      <td>0.0</td>\n",
              "    </tr>\n",
              "  </tbody>\n",
              "</table>\n",
              "</div>"
            ],
            "text/plain": [
              "   tot_credit_debt  avg_card_debt  credit_age  ...  rep_income  States  Default_ind\n",
              "0         80826.71       15872.99       300.0  ...     69000.0      AL          0.0\n",
              "1         96052.60       12178.02       281.0  ...     61000.0      FL          0.0\n",
              "2         75212.76       12052.24       261.0  ...         NaN      AL          0.0\n",
              "3         70727.84        8416.80       227.0  ...     79000.0      SC          1.0\n",
              "4         41604.47       10611.97       249.0  ...         NaN      LA          0.0\n",
              "\n",
              "[5 rows x 21 columns]"
            ]
          },
          "metadata": {
            "tags": []
          },
          "execution_count": 12
        }
      ]
    },
    {
      "cell_type": "code",
      "metadata": {
        "id": "MiHR_GGUoWcF"
      },
      "source": [
        "#EXPLOTORY DATA ANALYSIS \n",
        "def quantitative_summarized(dataframe, x=None, y=None, hue=None, palette='Set1', ax=None, verbose=True, swarm=False):\n",
        "   \n",
        "    series = dataframe[y]\n",
        "    print(series.describe())\n",
        "    print('mode: ', series.mode())\n",
        "    if verbose:\n",
        "        print('='*80)\n",
        "        print(series.value_counts())\n",
        "\n",
        "    sns.boxplot(x=x, y=y, hue=hue, data=dataframe, palette=palette, ax=ax)\n",
        "\n",
        "    if swarm:\n",
        "        sns.swarmplot(x=x, y=y, hue=hue, data=dataframe,\n",
        "                      palette=palette, ax=ax)\n",
        "\n",
        "    plt.show()"
      ],
      "execution_count": null,
      "outputs": []
    },
    {
      "cell_type": "code",
      "metadata": {
        "colab": {
          "base_uri": "https://localhost:8080/",
          "height": 528
        },
        "id": "9hR-Y7A1poj4",
        "outputId": "8480fbe3-5774-488a-920e-884cdd8e16e0"
      },
      "source": [
        "c_palette = ['tab:blue', 'tab:orange']\n",
        "quantitative_summarized(dataframe= train, y = 'credit_age', x = 'Default_ind', palette=c_palette, verbose=False, swarm=True)\n"
      ],
      "execution_count": null,
      "outputs": [
        {
          "output_type": "stream",
          "text": [
            "count    20000.000000\n",
            "mean       296.697000\n",
            "std         61.711702\n",
            "min         54.000000\n",
            "25%        255.000000\n",
            "50%        297.000000\n",
            "75%        339.000000\n",
            "max        545.000000\n",
            "Name: credit_age, dtype: float64\n",
            "mode:  0    303.0\n",
            "1    307.0\n",
            "dtype: float64\n"
          ],
          "name": "stdout"
        },
        {
          "output_type": "error",
          "ename": "ValueError",
          "evalue": "ignored",
          "traceback": [
            "\u001b[0;31m---------------------------------------------------------------------------\u001b[0m",
            "\u001b[0;31mValueError\u001b[0m                                Traceback (most recent call last)",
            "\u001b[0;32m<ipython-input-4-dd13b7385bbd>\u001b[0m in \u001b[0;36m<module>\u001b[0;34m()\u001b[0m\n\u001b[1;32m      1\u001b[0m \u001b[0mc_palette\u001b[0m \u001b[0;34m=\u001b[0m \u001b[0;34m[\u001b[0m\u001b[0;34m'tab:blue'\u001b[0m\u001b[0;34m,\u001b[0m \u001b[0;34m'tab:orange'\u001b[0m\u001b[0;34m]\u001b[0m\u001b[0;34m\u001b[0m\u001b[0;34m\u001b[0m\u001b[0m\n\u001b[0;32m----> 2\u001b[0;31m \u001b[0mquantitative_summarized\u001b[0m\u001b[0;34m(\u001b[0m\u001b[0mdataframe\u001b[0m\u001b[0;34m=\u001b[0m \u001b[0mtrain\u001b[0m\u001b[0;34m,\u001b[0m \u001b[0my\u001b[0m \u001b[0;34m=\u001b[0m \u001b[0;34m'credit_age'\u001b[0m\u001b[0;34m,\u001b[0m \u001b[0mx\u001b[0m \u001b[0;34m=\u001b[0m \u001b[0;34m'Default_ind'\u001b[0m\u001b[0;34m,\u001b[0m \u001b[0mpalette\u001b[0m\u001b[0;34m=\u001b[0m\u001b[0mc_palette\u001b[0m\u001b[0;34m,\u001b[0m \u001b[0mverbose\u001b[0m\u001b[0;34m=\u001b[0m\u001b[0;32mFalse\u001b[0m\u001b[0;34m,\u001b[0m \u001b[0mswarm\u001b[0m\u001b[0;34m=\u001b[0m\u001b[0;32mTrue\u001b[0m\u001b[0;34m)\u001b[0m\u001b[0;34m\u001b[0m\u001b[0;34m\u001b[0m\u001b[0m\n\u001b[0m",
            "\u001b[0;32m<ipython-input-3-5cb3c12f0f24>\u001b[0m in \u001b[0;36mquantitative_summarized\u001b[0;34m(dataframe, x, y, hue, palette, ax, verbose, swarm)\u001b[0m\n\u001b[1;32m      9\u001b[0m         \u001b[0mprint\u001b[0m\u001b[0;34m(\u001b[0m\u001b[0mseries\u001b[0m\u001b[0;34m.\u001b[0m\u001b[0mvalue_counts\u001b[0m\u001b[0;34m(\u001b[0m\u001b[0;34m)\u001b[0m\u001b[0;34m)\u001b[0m\u001b[0;34m\u001b[0m\u001b[0;34m\u001b[0m\u001b[0m\n\u001b[1;32m     10\u001b[0m \u001b[0;34m\u001b[0m\u001b[0m\n\u001b[0;32m---> 11\u001b[0;31m     \u001b[0msns\u001b[0m\u001b[0;34m.\u001b[0m\u001b[0mboxplot\u001b[0m\u001b[0;34m(\u001b[0m\u001b[0mx\u001b[0m\u001b[0;34m=\u001b[0m\u001b[0mx\u001b[0m\u001b[0;34m,\u001b[0m \u001b[0my\u001b[0m\u001b[0;34m=\u001b[0m\u001b[0my\u001b[0m\u001b[0;34m,\u001b[0m \u001b[0mhue\u001b[0m\u001b[0;34m=\u001b[0m\u001b[0mhue\u001b[0m\u001b[0;34m,\u001b[0m \u001b[0mdata\u001b[0m\u001b[0;34m=\u001b[0m\u001b[0mdataframe\u001b[0m\u001b[0;34m,\u001b[0m \u001b[0mpalette\u001b[0m\u001b[0;34m=\u001b[0m\u001b[0mpalette\u001b[0m\u001b[0;34m,\u001b[0m \u001b[0max\u001b[0m\u001b[0;34m=\u001b[0m\u001b[0max\u001b[0m\u001b[0;34m)\u001b[0m\u001b[0;34m\u001b[0m\u001b[0;34m\u001b[0m\u001b[0m\n\u001b[0m\u001b[1;32m     12\u001b[0m \u001b[0;34m\u001b[0m\u001b[0m\n\u001b[1;32m     13\u001b[0m     \u001b[0;32mif\u001b[0m \u001b[0mswarm\u001b[0m\u001b[0;34m:\u001b[0m\u001b[0;34m\u001b[0m\u001b[0;34m\u001b[0m\u001b[0m\n",
            "\u001b[0;32m/usr/local/lib/python3.7/dist-packages/seaborn/_decorators.py\u001b[0m in \u001b[0;36minner_f\u001b[0;34m(*args, **kwargs)\u001b[0m\n\u001b[1;32m     44\u001b[0m             )\n\u001b[1;32m     45\u001b[0m         \u001b[0mkwargs\u001b[0m\u001b[0;34m.\u001b[0m\u001b[0mupdate\u001b[0m\u001b[0;34m(\u001b[0m\u001b[0;34m{\u001b[0m\u001b[0mk\u001b[0m\u001b[0;34m:\u001b[0m \u001b[0marg\u001b[0m \u001b[0;32mfor\u001b[0m \u001b[0mk\u001b[0m\u001b[0;34m,\u001b[0m \u001b[0marg\u001b[0m \u001b[0;32min\u001b[0m \u001b[0mzip\u001b[0m\u001b[0;34m(\u001b[0m\u001b[0msig\u001b[0m\u001b[0;34m.\u001b[0m\u001b[0mparameters\u001b[0m\u001b[0;34m,\u001b[0m \u001b[0margs\u001b[0m\u001b[0;34m)\u001b[0m\u001b[0;34m}\u001b[0m\u001b[0;34m)\u001b[0m\u001b[0;34m\u001b[0m\u001b[0;34m\u001b[0m\u001b[0m\n\u001b[0;32m---> 46\u001b[0;31m         \u001b[0;32mreturn\u001b[0m \u001b[0mf\u001b[0m\u001b[0;34m(\u001b[0m\u001b[0;34m**\u001b[0m\u001b[0mkwargs\u001b[0m\u001b[0;34m)\u001b[0m\u001b[0;34m\u001b[0m\u001b[0;34m\u001b[0m\u001b[0m\n\u001b[0m\u001b[1;32m     47\u001b[0m     \u001b[0;32mreturn\u001b[0m \u001b[0minner_f\u001b[0m\u001b[0;34m\u001b[0m\u001b[0;34m\u001b[0m\u001b[0m\n\u001b[1;32m     48\u001b[0m \u001b[0;34m\u001b[0m\u001b[0m\n",
            "\u001b[0;32m/usr/local/lib/python3.7/dist-packages/seaborn/categorical.py\u001b[0m in \u001b[0;36mboxplot\u001b[0;34m(x, y, hue, data, order, hue_order, orient, color, palette, saturation, width, dodge, fliersize, linewidth, whis, ax, **kwargs)\u001b[0m\n\u001b[1;32m   2240\u001b[0m     plotter = _BoxPlotter(x, y, hue, data, order, hue_order,\n\u001b[1;32m   2241\u001b[0m                           \u001b[0morient\u001b[0m\u001b[0;34m,\u001b[0m \u001b[0mcolor\u001b[0m\u001b[0;34m,\u001b[0m \u001b[0mpalette\u001b[0m\u001b[0;34m,\u001b[0m \u001b[0msaturation\u001b[0m\u001b[0;34m,\u001b[0m\u001b[0;34m\u001b[0m\u001b[0;34m\u001b[0m\u001b[0m\n\u001b[0;32m-> 2242\u001b[0;31m                           width, dodge, fliersize, linewidth)\n\u001b[0m\u001b[1;32m   2243\u001b[0m \u001b[0;34m\u001b[0m\u001b[0m\n\u001b[1;32m   2244\u001b[0m     \u001b[0;32mif\u001b[0m \u001b[0max\u001b[0m \u001b[0;32mis\u001b[0m \u001b[0;32mNone\u001b[0m\u001b[0;34m:\u001b[0m\u001b[0;34m\u001b[0m\u001b[0;34m\u001b[0m\u001b[0m\n",
            "\u001b[0;32m/usr/local/lib/python3.7/dist-packages/seaborn/categorical.py\u001b[0m in \u001b[0;36m__init__\u001b[0;34m(self, x, y, hue, data, order, hue_order, orient, color, palette, saturation, width, dodge, fliersize, linewidth)\u001b[0m\n\u001b[1;32m    404\u001b[0m                  width, dodge, fliersize, linewidth):\n\u001b[1;32m    405\u001b[0m \u001b[0;34m\u001b[0m\u001b[0m\n\u001b[0;32m--> 406\u001b[0;31m         \u001b[0mself\u001b[0m\u001b[0;34m.\u001b[0m\u001b[0mestablish_variables\u001b[0m\u001b[0;34m(\u001b[0m\u001b[0mx\u001b[0m\u001b[0;34m,\u001b[0m \u001b[0my\u001b[0m\u001b[0;34m,\u001b[0m \u001b[0mhue\u001b[0m\u001b[0;34m,\u001b[0m \u001b[0mdata\u001b[0m\u001b[0;34m,\u001b[0m \u001b[0morient\u001b[0m\u001b[0;34m,\u001b[0m \u001b[0morder\u001b[0m\u001b[0;34m,\u001b[0m \u001b[0mhue_order\u001b[0m\u001b[0;34m)\u001b[0m\u001b[0;34m\u001b[0m\u001b[0;34m\u001b[0m\u001b[0m\n\u001b[0m\u001b[1;32m    407\u001b[0m         \u001b[0mself\u001b[0m\u001b[0;34m.\u001b[0m\u001b[0mestablish_colors\u001b[0m\u001b[0;34m(\u001b[0m\u001b[0mcolor\u001b[0m\u001b[0;34m,\u001b[0m \u001b[0mpalette\u001b[0m\u001b[0;34m,\u001b[0m \u001b[0msaturation\u001b[0m\u001b[0;34m)\u001b[0m\u001b[0;34m\u001b[0m\u001b[0;34m\u001b[0m\u001b[0m\n\u001b[1;32m    408\u001b[0m \u001b[0;34m\u001b[0m\u001b[0m\n",
            "\u001b[0;32m/usr/local/lib/python3.7/dist-packages/seaborn/categorical.py\u001b[0m in \u001b[0;36mestablish_variables\u001b[0;34m(self, x, y, hue, data, orient, order, hue_order, units)\u001b[0m\n\u001b[1;32m    151\u001b[0m                 \u001b[0;32mif\u001b[0m \u001b[0misinstance\u001b[0m\u001b[0;34m(\u001b[0m\u001b[0mvar\u001b[0m\u001b[0;34m,\u001b[0m \u001b[0mstr\u001b[0m\u001b[0;34m)\u001b[0m\u001b[0;34m:\u001b[0m\u001b[0;34m\u001b[0m\u001b[0;34m\u001b[0m\u001b[0m\n\u001b[1;32m    152\u001b[0m                     \u001b[0merr\u001b[0m \u001b[0;34m=\u001b[0m \u001b[0;34m\"Could not interpret input '{}'\"\u001b[0m\u001b[0;34m.\u001b[0m\u001b[0mformat\u001b[0m\u001b[0;34m(\u001b[0m\u001b[0mvar\u001b[0m\u001b[0;34m)\u001b[0m\u001b[0;34m\u001b[0m\u001b[0;34m\u001b[0m\u001b[0m\n\u001b[0;32m--> 153\u001b[0;31m                     \u001b[0;32mraise\u001b[0m \u001b[0mValueError\u001b[0m\u001b[0;34m(\u001b[0m\u001b[0merr\u001b[0m\u001b[0;34m)\u001b[0m\u001b[0;34m\u001b[0m\u001b[0;34m\u001b[0m\u001b[0m\n\u001b[0m\u001b[1;32m    154\u001b[0m \u001b[0;34m\u001b[0m\u001b[0m\n\u001b[1;32m    155\u001b[0m             \u001b[0;31m# Figure out the plotting orientation\u001b[0m\u001b[0;34m\u001b[0m\u001b[0;34m\u001b[0m\u001b[0;34m\u001b[0m\u001b[0m\n",
            "\u001b[0;31mValueError\u001b[0m: Could not interpret input 'Default_ind'"
          ]
        }
      ]
    },
    {
      "cell_type": "code",
      "metadata": {
        "id": "GFmIlhGuNpoO",
        "colab": {
          "base_uri": "https://localhost:8080/"
        },
        "outputId": "da273062-3462-45ee-dea8-ad67de21a19b"
      },
      "source": [
        "#MODEL 1- LOGISTIC REGRESSION\n",
        "from sklearn.linear_model import LogisticRegression\n",
        "import sklearn.metrics as metrics\n",
        "from sklearn.metrics import classification_report\n",
        "logReg = LogisticRegression()\n",
        "logReg.fit(x_TrainScale, y_Train)\n",
        "predictedVAL = logReg.predict(x_ValScale)\n",
        "predictedTEST = logReg.predict(x_TestScale)\n",
        "accuracyLRVAL = metrics.accuracy_score(y_Val, predictedVAL)\n",
        "accuracyLRTEST = metrics.accuracy_score(y_Test, predictedTEST)\n",
        "print(classification_report(y_Test, logReg.predict(x_TestScale)))"
      ],
      "execution_count": null,
      "outputs": [
        {
          "output_type": "stream",
          "text": [
            "              precision    recall  f1-score   support\n",
            "\n",
            "         0.0       0.94      0.99      0.97      4599\n",
            "         1.0       0.77      0.28      0.41       401\n",
            "\n",
            "    accuracy                           0.94      5000\n",
            "   macro avg       0.85      0.64      0.69      5000\n",
            "weighted avg       0.93      0.94      0.92      5000\n",
            "\n"
          ],
          "name": "stdout"
        }
      ]
    },
    {
      "cell_type": "markdown",
      "metadata": {
        "id": "yTsIdHpjzTjG"
      },
      "source": [
        ""
      ]
    },
    {
      "cell_type": "code",
      "metadata": {
        "colab": {
          "base_uri": "https://localhost:8080/"
        },
        "id": "1ohJg85JpgVJ",
        "outputId": "be34d007-41d0-4776-cfc3-3cc4c8faf8c1"
      },
      "source": [
        "#MODEL 2- RANDOM FOREST\n",
        "# Import the model we are using\n",
        "from sklearn.ensemble import RandomForestClassifier\n",
        "# Instantiate model with 1000 decision trees\n",
        "rf = RandomForestClassifier(n_estimators = 64)\n",
        "# Train the model on training data\n",
        "rf = RandomForestClassifier(n_estimators = 64)\n",
        "rf.fit(x_Train,y_Train)\n",
        "predictedRFVAL = rf.predict(x_Val)\n",
        "predictedRFTEST = rf.predict(x_Test)\n",
        "accuracyRFVAL = metrics.accuracy_score(y_Val, predictedRFVAL)\n",
        "accuracyRFTEST = metrics.accuracy_score(y_Test, predictedRFTEST)\n",
        "print(classification_report(y_Val, rf.predict(x_Val)))"
      ],
      "execution_count": null,
      "outputs": [
        {
          "output_type": "stream",
          "text": [
            "              precision    recall  f1-score   support\n",
            "\n",
            "         0.0       0.95      0.99      0.97      2778\n",
            "         1.0       0.82      0.28      0.42       222\n",
            "\n",
            "    accuracy                           0.94      3000\n",
            "   macro avg       0.88      0.64      0.70      3000\n",
            "weighted avg       0.94      0.94      0.93      3000\n",
            "\n"
          ],
          "name": "stdout"
        }
      ]
    },
    {
      "cell_type": "code",
      "metadata": {
        "colab": {
          "base_uri": "https://localhost:8080/"
        },
        "id": "qsQ8NcC86xCo",
        "outputId": "89572b7a-43dd-4959-ce18-d4bb6cf4d18a"
      },
      "source": [
        "#FEATURE IMPORTANCE FOR RANDOM FOREST\n",
        "# Extract feature importances\n",
        "importanceRF = pd.DataFrame({'feature': list(x_Train.columns),\n",
        "                   'importance': rf.feature_importances_}).\\\n",
        "                    sort_values('importance', ascending = False)\n",
        "\n",
        "# Display\n",
        "print(importanceRF)"
      ],
      "execution_count": null,
      "outputs": [
        {
          "output_type": "stream",
          "text": [
            "                               feature  importance\n",
            "1                        avg_card_debt    0.128093\n",
            "13                            uti_card    0.076966\n",
            "0                      tot_credit_debt    0.073569\n",
            "8               credit_past_due_amount    0.061547\n",
            "16                 uti_card_50plus_pct    0.061274\n",
            "15                 uti_max_credit_line    0.060080\n",
            "14                      uti_50plus_pct    0.058403\n",
            "5   non_mtg_acc_past_due_12_months_num    0.055809\n",
            "4                             card_age    0.055052\n",
            "2                           credit_age    0.054521\n",
            "3                      credit_good_age    0.052545\n",
            "18                          rep_income    0.052236\n",
            "7      mortgages_past_due_6_months_num    0.038030\n",
            "6    non_mtg_acc_past_due_6_months_num    0.037369\n",
            "10               card_inq_24_month_num    0.034881\n",
            "9                     inq_12_month_num    0.033735\n",
            "11              card_open_36_month_num    0.008501\n",
            "17                         ind_acc_XYZ    0.007771\n",
            "20                           States_FL    0.006387\n",
            "12             auto_open_ 36_month_num    0.006355\n",
            "24                           States_NC    0.006327\n",
            "19                           States_AL    0.006322\n",
            "25                           States_SC    0.006213\n",
            "22                           States_LA    0.006115\n",
            "23                           States_MS    0.005958\n",
            "21                           States_GA    0.005941\n"
          ],
          "name": "stdout"
        }
      ]
    },
    {
      "cell_type": "code",
      "metadata": {
        "id": "vUqTBx-t6kWm",
        "colab": {
          "base_uri": "https://localhost:8080/"
        },
        "outputId": "811e4317-6ad0-4500-9462-7cd0b1b6d957"
      },
      "source": [
        "#FEATURE IMPORTANCE FOR LOGISTIC REGRESSION\n",
        "importanceLR = pd.DataFrame({'feature': list(x_Train.columns),\n",
        "                   'importance': logReg.coef_[0]}).\\\n",
        "                    sort_values('importance', ascending = False)\n",
        "\n",
        "# Display\n",
        "print(importanceLR)\n"
      ],
      "execution_count": null,
      "outputs": [
        {
          "output_type": "stream",
          "text": [
            "                               feature  importance\n",
            "12                            uti_card    0.602085\n",
            "5   non_mtg_acc_past_due_12_months_num    0.489097\n",
            "1                        avg_card_debt    0.372375\n",
            "9                     inq_12_month_num    0.332169\n",
            "7      mortgages_past_due_6_months_num    0.251790\n",
            "6    non_mtg_acc_past_due_6_months_num    0.163331\n",
            "11              card_open_36_month_num    0.061500\n",
            "13                      uti_50plus_pct    0.050103\n",
            "15                 uti_card_50plus_pct    0.043073\n",
            "23                           States_SC    0.030287\n",
            "21                           States_MS    0.028843\n",
            "14                 uti_max_credit_line    0.024435\n",
            "17                           States_AL    0.008377\n",
            "20                           States_LA    0.005176\n",
            "10               card_inq_24_month_num   -0.006765\n",
            "22                           States_NC   -0.009041\n",
            "18                           States_FL   -0.027212\n",
            "3                      credit_good_age   -0.030719\n",
            "19                           States_GA   -0.036118\n",
            "16                          rep_income   -0.045059\n",
            "8               credit_past_due_amount   -0.094132\n",
            "4                             card_age   -0.161256\n",
            "2                           credit_age   -0.234804\n",
            "0                      tot_credit_debt   -0.301957\n"
          ],
          "name": "stdout"
        }
      ]
    },
    {
      "cell_type": "code",
      "metadata": {
        "id": "_NoUfUv0gRC1",
        "colab": {
          "base_uri": "https://localhost:8080/"
        },
        "outputId": "fd244135-d702-4f4b-d2e1-6bf3e0ec7d91"
      },
      "source": [
        "#GRADIET BOOSTING MODEL\n",
        "# test classification dataset\n",
        "from sklearn.datasets import make_classification\n",
        "from sklearn.preprocessing import MinMaxScaler\n",
        "from sklearn.model_selection import train_test_split\n",
        "from sklearn.metrics import classification_report, confusion_matrix\n",
        "from sklearn.ensemble import GradientBoostingClassifier\n",
        "import sklearn.metrics as metrics\n",
        "lr_list = [0.05, 0.075, 0.1, 0.25, 0.5, 0.75, 1]\n",
        "\n",
        "for learning_rate in lr_list:\n",
        "    gb_clf = GradientBoostingClassifier(n_estimators=20, learning_rate=learning_rate, max_features=2, max_depth=2, random_state=0)\n",
        "    gb_clf.fit(x_Train, y_Train)\n",
        "\n",
        "    print(\"Learning rate: \", learning_rate)\n",
        "    print(\"Accuracy score (training): {0:.3f}\".format(gb_clf.score(x_Train, y_Train)))\n",
        "    print(\"Accuracy score (validation): {0:.3f}\".format(gb_clf.score(x_Val, y_Val)))"
      ],
      "execution_count": null,
      "outputs": [
        {
          "output_type": "stream",
          "text": [
            "Learning rate:  0.05\n",
            "Accuracy score (training): 0.921\n",
            "Accuracy score (validation): 0.927\n",
            "Learning rate:  0.075\n",
            "Accuracy score (training): 0.925\n",
            "Accuracy score (validation): 0.930\n",
            "Learning rate:  0.1\n",
            "Accuracy score (training): 0.931\n",
            "Accuracy score (validation): 0.931\n",
            "Learning rate:  0.25\n",
            "Accuracy score (training): 0.935\n",
            "Accuracy score (validation): 0.937\n",
            "Learning rate:  0.5\n",
            "Accuracy score (training): 0.937\n",
            "Accuracy score (validation): 0.936\n",
            "Learning rate:  0.75\n",
            "Accuracy score (training): 0.931\n",
            "Accuracy score (validation): 0.931\n",
            "Learning rate:  1\n",
            "Accuracy score (training): 0.930\n",
            "Accuracy score (validation): 0.932\n"
          ],
          "name": "stdout"
        }
      ]
    },
    {
      "cell_type": "code",
      "metadata": {
        "colab": {
          "base_uri": "https://localhost:8080/",
          "height": 232
        },
        "id": "dDwyEXHCh1_C",
        "outputId": "6163d299-1dd6-4131-a0fd-e6908385e555"
      },
      "source": [
        "\n",
        "predictedGBVAL = gb_clf2.predict(x_Val)\n",
        "predictedGBTEST = gb_clf2.predict(x_Test)\n",
        "accuracyGBVAL = metrics.accuracy_score(y_Val, predictedGBVAL)\n",
        "accuracyGBTEST = metrics.accuracy_score(y_Test, predictedGBTEST)\n",
        "\n",
        "\n",
        "\n",
        "print(\"Confusion Matrix:\")\n",
        "print(confusion_matrix(y_Val, predictions))\n",
        "\n",
        "print(\"Classification Report\")\n",
        "print(classification_report(y_Val, predictions))"
      ],
      "execution_count": null,
      "outputs": [
        {
          "output_type": "error",
          "ename": "NameError",
          "evalue": "ignored",
          "traceback": [
            "\u001b[0;31m---------------------------------------------------------------------------\u001b[0m",
            "\u001b[0;31mNameError\u001b[0m                                 Traceback (most recent call last)",
            "\u001b[0;32m<ipython-input-1-0f926f75a737>\u001b[0m in \u001b[0;36m<module>\u001b[0;34m()\u001b[0m\n\u001b[1;32m      1\u001b[0m \u001b[0;34m\u001b[0m\u001b[0m\n\u001b[0;32m----> 2\u001b[0;31m \u001b[0mpredictedGBVAL\u001b[0m \u001b[0;34m=\u001b[0m \u001b[0mgb_clf2\u001b[0m\u001b[0;34m.\u001b[0m\u001b[0mpredict\u001b[0m\u001b[0;34m(\u001b[0m\u001b[0mx_Val\u001b[0m\u001b[0;34m)\u001b[0m\u001b[0;34m\u001b[0m\u001b[0;34m\u001b[0m\u001b[0m\n\u001b[0m\u001b[1;32m      3\u001b[0m \u001b[0mpredictedGBTEST\u001b[0m \u001b[0;34m=\u001b[0m \u001b[0mgb_clf2\u001b[0m\u001b[0;34m.\u001b[0m\u001b[0mpredict\u001b[0m\u001b[0;34m(\u001b[0m\u001b[0mx_Test\u001b[0m\u001b[0;34m)\u001b[0m\u001b[0;34m\u001b[0m\u001b[0;34m\u001b[0m\u001b[0m\n\u001b[1;32m      4\u001b[0m \u001b[0maccuracyGBVAL\u001b[0m \u001b[0;34m=\u001b[0m \u001b[0mmetrics\u001b[0m\u001b[0;34m.\u001b[0m\u001b[0maccuracy_score\u001b[0m\u001b[0;34m(\u001b[0m\u001b[0my_Val\u001b[0m\u001b[0;34m,\u001b[0m \u001b[0mpredictedGBVAL\u001b[0m\u001b[0;34m)\u001b[0m\u001b[0;34m\u001b[0m\u001b[0;34m\u001b[0m\u001b[0m\n\u001b[1;32m      5\u001b[0m \u001b[0maccuracyGBTEST\u001b[0m \u001b[0;34m=\u001b[0m \u001b[0mmetrics\u001b[0m\u001b[0;34m.\u001b[0m\u001b[0maccuracy_score\u001b[0m\u001b[0;34m(\u001b[0m\u001b[0my_Test\u001b[0m\u001b[0;34m,\u001b[0m \u001b[0mpredictedGBTEST\u001b[0m\u001b[0;34m)\u001b[0m\u001b[0;34m\u001b[0m\u001b[0;34m\u001b[0m\u001b[0m\n",
            "\u001b[0;31mNameError\u001b[0m: name 'gb_clf2' is not defined"
          ]
        }
      ]
    },
    {
      "cell_type": "markdown",
      "metadata": {
        "id": "VIhvjDLQ68Ky"
      },
      "source": [
        ""
      ]
    },
    {
      "cell_type": "code",
      "metadata": {
        "id": "Skh1LWIx3JJ6",
        "colab": {
          "base_uri": "https://localhost:8080/",
          "height": 709
        },
        "outputId": "6cf67a1c-880c-42cd-e971-e009e08f1d3e"
      },
      "source": [
        "#CONFUSION MATRICES\n",
        "from sklearn.metrics import plot_confusion_matrix\n",
        "import matplotlib.pyplot as plt\n",
        "\n",
        "def plot(classifier, x, y, title): \n",
        "    class_names = [\"Not Defaulted\", \"Defaulted\"]\n",
        "    disp = plot_confusion_matrix(classifier, x, y,\n",
        "                                 display_labels=class_names,\n",
        "                                 cmap=plt.cm.PuRd, values_format = ''\n",
        "                                   )\n",
        "    disp.ax_.set_title(title)\n",
        "    plt.show() \n",
        "\n",
        "plot(logReg, x_Test, y_Test, \"Logistic Regression Model-scaled\")\n",
        "print(\"Test set accuracy:\") #before smote- .9311, after smote- .87\n",
        "print(accuracyLRTEST)\n",
        "print(\"Validation set accuracy:\") #before smote- .934, after smote- .8, \n",
        "print(accuracyLRVAL)\n",
        "plot(rf, x_Test, y_Test, \"Random Forest Model-original\")\n",
        "print(\"Test set accuracy:\") #before smote- 1.0, after smote- 1.0\n",
        "print(accuracyRFTEST)\n",
        "print(\"Validation set accuracy:\") #before smote- .942, after smote- .936\n",
        "print(accuracyRFVAL)\n",
        "plot(gb_clf,x_Test, y_Test, \"Gradient Boosting\")\n"
      ],
      "execution_count": null,
      "outputs": [
        {
          "output_type": "display_data",
          "data": {
            "image/png": "[encoded data removed]",
            "text/plain": [
              "<Figure size 432x288 with 2 Axes>"
            ]
          },
          "metadata": {
            "tags": [],
            "needs_background": "light"
          }
        },
        {
          "output_type": "stream",
          "text": [
            "Test set accuracy:\n",
            "0.9356\n",
            "Validation set accuracy:\n",
            "0.942\n"
          ],
          "name": "stdout"
        },
        {
          "output_type": "display_data",
          "data": {
            "image/png": "[encoded data removed]",
            "text/plain": [
              "<Figure size 432x288 with 2 Axes>"
            ]
          },
          "metadata": {
            "tags": [],
            "needs_background": "light"
          }
        },
        {
          "output_type": "stream",
          "text": [
            "Test set accuracy:\n",
            "0.936\n",
            "Validation set accuracy:\n",
            "0.9393333333333334\n"
          ],
          "name": "stdout"
        }
      ]
    },
    {
      "cell_type": "code",
      "metadata": {
        "colab": {
          "base_uri": "https://localhost:8080/"
        },
        "id": "H1SmCTg2iViF",
        "outputId": "63b5ff5b-ddb3-49f2-9750-1ba2e6883b3b"
      },
      "source": [
        "importanceGB = pd.DataFrame({'feature': list(x_Train.columns),\n",
        "                   'importance': gb_clf2.feature_importances_}).\\\n",
        "                    sort_values('importance', ascending = False)\n",
        "\n",
        "# Display\n",
        "print(importanceGB)"
      ],
      "execution_count": null,
      "outputs": [
        {
          "output_type": "stream",
          "text": [
            "                               feature  importance\n",
            "7      mortgages_past_due_6_months_num    0.501271\n",
            "1                        avg_card_debt    0.222984\n",
            "9                     inq_12_month_num    0.047197\n",
            "13                      uti_50plus_pct    0.032180\n",
            "14                 uti_max_credit_line    0.030122\n",
            "6    non_mtg_acc_past_due_6_months_num    0.028498\n",
            "15                 uti_card_50plus_pct    0.026413\n",
            "5   non_mtg_acc_past_due_12_months_num    0.019423\n",
            "4                             card_age    0.018980\n",
            "12                            uti_card    0.018157\n",
            "8               credit_past_due_amount    0.014310\n",
            "2                           credit_age    0.014092\n",
            "3                      credit_good_age    0.013788\n",
            "0                      tot_credit_debt    0.010987\n",
            "11              card_open_36_month_num    0.000647\n",
            "16                          rep_income    0.000311\n",
            "19                           States_GA    0.000213\n",
            "21                           States_MS    0.000213\n",
            "22                           States_NC    0.000077\n",
            "20                           States_LA    0.000072\n",
            "18                           States_FL    0.000067\n",
            "10               card_inq_24_month_num    0.000000\n",
            "17                           States_AL    0.000000\n",
            "23                           States_SC    0.000000\n"
          ],
          "name": "stdout"
        }
      ]
    },
    {
      "cell_type": "code",
      "metadata": {
        "colab": {
          "base_uri": "https://localhost:8080/",
          "height": 363
        },
        "id": "VH8uLS6pkV4S",
        "outputId": "a4f44f87-7e76-4773-ffbb-554f48382a3b"
      },
      "source": [
        "plot(gb_clf2, x_Test, y_Test, \"Gradient Boosting Model\")\n",
        "print(\"Test set accuracy:\") \n",
        "print(accuracyGBTEST)\n",
        "print(\"Validation set accuracy:\") \n",
        "print(accuracyGBVAL)"
      ],
      "execution_count": null,
      "outputs": [
        {
          "output_type": "display_data",
          "data": {
            "image/png": "[encoded data removed]",
            "text/plain": [
              "<Figure size 432x288 with 2 Axes>"
            ]
          },
          "metadata": {
            "tags": [],
            "needs_background": "light"
          }
        },
        {
          "output_type": "stream",
          "text": [
            "Test set accuracy:\n",
            "0.9372\n",
            "Validation set accuracy:\n",
            "0.9363333333333334\n"
          ],
          "name": "stdout"
        }
      ]
    },
    {
      "cell_type": "code",
      "metadata": {
        "id": "KEyn0edImm7O"
      },
      "source": [
        ""
      ],
      "execution_count": null,
      "outputs": []
    }
  ]
}